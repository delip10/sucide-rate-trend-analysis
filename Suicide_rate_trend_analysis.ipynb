{
  "cells": [
    {
      "cell_type": "code",
      "execution_count": 1,
      "metadata": {
        "id": "cu6coYBNeZUf"
      },
      "outputs": [],
      "source": [
        "#Import Of Necessary Libraries\n",
        "import pandas as pd\n",
        "import numpy as np\n",
        "import matplotlib.pyplot as plt\n",
        "import seaborn as sns"
      ]
    },
    {
      "cell_type": "code",
      "execution_count": 2,
      "metadata": {
        "id": "8Tl45xykTGnx"
      },
      "outputs": [],
      "source": [
        "import warnings\n",
        "warnings.simplefilter(\"ignore\")"
      ]
    },
    {
      "cell_type": "code",
      "execution_count": 3,
      "metadata": {
        "id": "EniRYYx_cvfW"
      },
      "outputs": [],
      "source": [
        "data=pd.read_csv('master.csv')"
      ]
    },
    {
      "cell_type": "code",
      "execution_count": null,
      "metadata": {
        "id": "syWXPPfUeZVJ"
      },
      "outputs": [],
      "source": [
        "data.head()"
      ]
    },
    {
      "cell_type": "code",
      "execution_count": null,
      "metadata": {
        "id": "CRElyVEeTGn0"
      },
      "outputs": [],
      "source": [
        "data.country.unique()"
      ]
    },
    {
      "cell_type": "code",
      "execution_count": null,
      "metadata": {
        "id": "qLyaLrKDeZVX"
      },
      "outputs": [],
      "source": [
        "data.dtypes"
      ]
    },
    {
      "cell_type": "code",
      "execution_count": null,
      "metadata": {
        "id": "wUWbqeUYeZVk"
      },
      "outputs": [],
      "source": [
        "data.info()"
      ]
    },
    {
      "cell_type": "markdown",
      "metadata": {
        "id": "ogV4Z57AP9Qb"
      },
      "source": [
        "**<h2> Exploratory Data Analysis**"
      ]
    },
    {
      "cell_type": "code",
      "execution_count": 8,
      "metadata": {
        "id": "FyoZWPOweZV7"
      },
      "outputs": [],
      "source": [
        "#Data Cleaning\n",
        "data[\"gdp_for_year\"]=data[\" gdp_for_year\"]"
      ]
    },
    {
      "cell_type": "code",
      "execution_count": 9,
      "metadata": {
        "id": "M6xDPR7JeZWD"
      },
      "outputs": [],
      "source": [
        "data.drop(\" gdp_for_year\",axis=1,inplace=True)"
      ]
    },
    {
      "cell_type": "code",
      "execution_count": null,
      "metadata": {
        "id": "EnQsOZAJTGn3"
      },
      "outputs": [],
      "source": [
        "data.info()"
      ]
    },
    {
      "cell_type": "code",
      "execution_count": 11,
      "metadata": {
        "id": "YkHr6TSUeZWN"
      },
      "outputs": [],
      "source": [
        "data[\"gdp_for_year\"]=data.gdp_for_year.str.replace(\",\",\"\")"
      ]
    },
    {
      "cell_type": "code",
      "execution_count": null,
      "metadata": {
        "id": "Hz9DY-8OTGn5"
      },
      "outputs": [],
      "source": [
        "data.head()"
      ]
    },
    {
      "cell_type": "code",
      "execution_count": 13,
      "metadata": {
        "id": "ZU958nkjeZWW"
      },
      "outputs": [],
      "source": [
        "data[\"gdp_for_year\"]=data[\"gdp_for_year\"].astype(float)"
      ]
    },
    {
      "cell_type": "markdown",
      "metadata": {
        "id": "FyQZRnb4kn_z"
      },
      "source": [
        "**<h3>Count Plot for Generations**"
      ]
    },
    {
      "cell_type": "code",
      "execution_count": null,
      "metadata": {
        "id": "Zdva0j2geZWh"
      },
      "outputs": [],
      "source": [
        "plt.figure(figsize=(30,5))\n",
        "sns.countplot(data['generation'])"
      ]
    },
    {
      "cell_type": "code",
      "execution_count": 15,
      "metadata": {
        "id": "1HXnl68keZW6"
      },
      "outputs": [],
      "source": [
        "from sklearn.preprocessing import LabelEncoder\n",
        "label_encoder1=LabelEncoder()\n",
        "data[\"sex\"]=label_encoder1.fit_transform(data[\"sex\"])"
      ]
    },
    {
      "cell_type": "code",
      "execution_count": 16,
      "metadata": {
        "id": "nJNotmXJeZXE"
      },
      "outputs": [],
      "source": [
        "label_encoder2=LabelEncoder()\n",
        "data[\"generation\"]=label_encoder2.fit_transform(data[\"generation\"])"
      ]
    },
    {
      "cell_type": "code",
      "execution_count": 17,
      "metadata": {
        "id": "ows5BmhueZXM"
      },
      "outputs": [],
      "source": [
        "data=data.fillna(0)"
      ]
    },
    {
      "cell_type": "code",
      "execution_count": 18,
      "metadata": {
        "id": "AIF8x8NZeZXU"
      },
      "outputs": [],
      "source": [
        "data.drop(columns=[\"country\",\"country-year\",\"age\"],axis=1,inplace=True)"
      ]
    },
    {
      "cell_type": "code",
      "execution_count": null,
      "metadata": {
        "id": "KyI9Ila6eZXb"
      },
      "outputs": [],
      "source": [
        "data.head()"
      ]
    },
    {
      "cell_type": "markdown",
      "metadata": {
        "id": "gc6FSWQWRPds"
      },
      "source": [
        "**<h3> Comparing Number of Suicides Between Both the Sexes**"
      ]
    },
    {
      "cell_type": "code",
      "execution_count": null,
      "metadata": {
        "id": "w43KFPUDeZXp"
      },
      "outputs": [],
      "source": [
        "sns.barplot(x='sex',y='suicides_no',data=data)"
      ]
    },
    {
      "cell_type": "code",
      "execution_count": null,
      "metadata": {
        "id": "SaeTrBBueZXy"
      },
      "outputs": [],
      "source": [
        "plt.figure(figsize=(15,5))\n",
        "sns.lineplot(x='year',y='gdp_for_year',data=data)"
      ]
    },
    {
      "cell_type": "markdown",
      "metadata": {
        "id": "I4mBqnS0RgnA"
      },
      "source": [
        "**<h3> Suicide rate over the given period between both the genders**"
      ]
    },
    {
      "cell_type": "code",
      "execution_count": null,
      "metadata": {
        "id": "t508DGhWeZX6"
      },
      "outputs": [],
      "source": [
        "plt.figure(figsize=(15,5))\n",
        "sns.lineplot(x='year',y='suicides_no',hue='sex',data=data)"
      ]
    },
    {
      "cell_type": "code",
      "execution_count": null,
      "metadata": {
        "id": "x7Xqi-GceZYE"
      },
      "outputs": [],
      "source": [
        "data.dtypes"
      ]
    },
    {
      "cell_type": "code",
      "execution_count": null,
      "metadata": {
        "id": "-PdSHkhieZYN",
        "scrolled": true
      },
      "outputs": [],
      "source": [
        "#Correlation Matrix\n",
        "data.corr()"
      ]
    },
    {
      "cell_type": "code",
      "execution_count": null,
      "metadata": {
        "id": "7hAh7f41eZYU"
      },
      "outputs": [],
      "source": [
        "plt.figure(figsize=(10,10))\n",
        "sns.heatmap(data.corr(),annot=True)"
      ]
    },
    {
      "cell_type": "code",
      "execution_count": 26,
      "metadata": {
        "id": "1wJTymUOeZYl"
      },
      "outputs": [],
      "source": [
        "#Train and Test Data\n",
        "train=data.drop(\"suicides_no\",axis=1)\n",
        "test=data[\"suicides_no\"]"
      ]
    },
    {
      "cell_type": "code",
      "execution_count": 27,
      "metadata": {
        "id": "ucDp__lkeZY1"
      },
      "outputs": [],
      "source": [
        "sns.set_style('whitegrid') \t"
      ]
    },
    {
      "cell_type": "code",
      "execution_count": null,
      "metadata": {
        "id": "RWscDsvYeZY6"
      },
      "outputs": [],
      "source": [
        "sns.distplot(train['population'],bins=100)"
      ]
    },
    {
      "cell_type": "code",
      "execution_count": null,
      "metadata": {
        "id": "_EtBEXcCeZZB"
      },
      "outputs": [],
      "source": [
        "sns.distplot(np.log(train['population']),bins=100)"
      ]
    },
    {
      "cell_type": "markdown",
      "metadata": {
        "id": "twpuhiWXSTa3"
      },
      "source": [
        "**<h3> Studying Trends between Year and Suicide Numbers**"
      ]
    },
    {
      "cell_type": "code",
      "execution_count": null,
      "metadata": {
        "id": "XwrzHefGeZZH"
      },
      "outputs": [],
      "source": [
        "fig, ax = plt.subplots()\n",
        "# the size of A4 paper\n",
        "fig.set_size_inches(13.7, 10.27)\n",
        "sns.barplot(x='year',y='suicides_no',data=data,ax=ax)"
      ]
    },
    {
      "cell_type": "markdown",
      "metadata": {
        "id": "Ab7GZSw7Sm0R"
      },
      "source": [
        "**<h3> Studying Trends between Year and Population**"
      ]
    },
    {
      "cell_type": "code",
      "execution_count": null,
      "metadata": {
        "id": "ZKmMmjVKeZZT"
      },
      "outputs": [],
      "source": [
        "fig, ax = plt.subplots()\n",
        "# the size of A4 paper\n",
        "fig.set_size_inches(13.7, 10.27)\n",
        "sns.barplot(x='year',y='population',data=train) \t"
      ]
    },
    {
      "cell_type": "code",
      "execution_count": null,
      "metadata": {
        "id": "h0QNVE4ueZas"
      },
      "outputs": [],
      "source": [
        "#Analysis Of all feautres \n",
        "sns.pairplot(data,hue=\"sex\")"
      ]
    },
    {
      "cell_type": "markdown",
      "metadata": {
        "id": "3uMq4nw-ET3l"
      },
      "source": [
        "**<h2> Machine Learning Model**"
      ]
    },
    {
      "cell_type": "code",
      "execution_count": 33,
      "metadata": {
        "id": "pV4AdAACeZZk"
      },
      "outputs": [],
      "source": [
        "#Library for Training Model\n",
        "from sklearn import model_selection"
      ]
    },
    {
      "cell_type": "code",
      "execution_count": 34,
      "metadata": {
        "id": "gyofdgmpeZZp"
      },
      "outputs": [],
      "source": [
        "#Train Test Split\n",
        "x_train,x_test,y_train,y_test=model_selection.train_test_split(train,test)"
      ]
    },
    {
      "cell_type": "code",
      "execution_count": 35,
      "metadata": {
        "id": "1Io7y8tTeZZt"
      },
      "outputs": [],
      "source": [
        "#Training will be done by RandomForest Algorithm\n",
        "from sklearn.ensemble import RandomForestRegressor\n",
        "from sklearn.tree import DecisionTreeRegressor\n",
        "from sklearn.linear_model import LinearRegression\n",
        "from sklearn.svm import SVR"
      ]
    },
    {
      "cell_type": "code",
      "execution_count": null,
      "metadata": {
        "id": "1Twb5VHAeZZx"
      },
      "outputs": [],
      "source": [
        "alg1=RandomForestRegressor(n_estimators=50,random_state=0,criterion=\"mse\")\n",
        "alg1.fit(x_train,y_train)"
      ]
    },
    {
      "cell_type": "code",
      "execution_count": null,
      "metadata": {
        "id": "4px64yULeZZ3"
      },
      "outputs": [],
      "source": [
        "alg2=DecisionTreeRegressor()\n",
        "alg2.fit(x_train,y_train)"
      ]
    },
    {
      "cell_type": "code",
      "execution_count": null,
      "metadata": {
        "id": "A4mOoKvLeZZ7"
      },
      "outputs": [],
      "source": [
        "alg3=LinearRegression()\n",
        "alg3.fit(x_train,y_train)"
      ]
    },
    {
      "cell_type": "code",
      "execution_count": null,
      "metadata": {
        "id": "oAvNgwd_eZaA"
      },
      "outputs": [],
      "source": [
        "alg4=SVR()\n",
        "alg4.fit(x_train,y_train)"
      ]
    },
    {
      "cell_type": "code",
      "execution_count": 40,
      "metadata": {
        "id": "k5MDqnw6eZaP"
      },
      "outputs": [],
      "source": [
        "#Prediction\n",
        "y_pred_1=alg1.predict(x_test)\n",
        "y_pred_2=alg2.predict(x_test)\n",
        "y_pred_3=alg3.predict(x_test)\n",
        "y_pred_4=alg4.predict(x_test)"
      ]
    },
    {
      "cell_type": "code",
      "execution_count": 41,
      "metadata": {
        "id": "EQeQxgy0TGoJ"
      },
      "outputs": [],
      "source": [
        "from sklearn import metrics"
      ]
    },
    {
      "cell_type": "code",
      "execution_count": 42,
      "metadata": {
        "colab": {
          "base_uri": "https://localhost:8080/"
        },
        "id": "yAvyfnlleZaU",
        "outputId": "70831495-f012-4e30-ea91-86db1b73e23e"
      },
      "outputs": [
        {
          "output_type": "stream",
          "name": "stdout",
          "text": [
            "Random Forest RMSE: 59.94565145047396\n",
            "Decesion Tree RMSE: 90.47266726832794\n",
            "Linear Regression RMSE: 719.9371873445194\n",
            "SVR RMSE: 948.7448576462454\n"
          ]
        }
      ],
      "source": [
        "print(\"Random Forest RMSE:\",np.sqrt(metrics.mean_squared_error(y_test,y_pred_1)))\n",
        "print(\"Decesion Tree RMSE:\",np.sqrt(metrics.mean_squared_error(y_test,y_pred_2)))\n",
        "print(\"Linear Regression RMSE:\",np.sqrt(metrics.mean_squared_error(y_test,y_pred_3)))\n",
        "print(\"SVR RMSE:\",np.sqrt(metrics.mean_squared_error(y_test,y_pred_4)))"
      ]
    }
  ],
  "metadata": {
    "colab": {
      "collapsed_sections": [],
      "name": "Suicide_rate_trend_analysis.ipynb",
      "provenance": []
    },
    "kernelspec": {
      "display_name": "Python 3",
      "language": "python",
      "name": "python3"
    },
    "language_info": {
      "codemirror_mode": {
        "name": "ipython",
        "version": 3
      },
      "file_extension": ".py",
      "mimetype": "text/x-python",
      "name": "python",
      "nbconvert_exporter": "python",
      "pygments_lexer": "ipython3",
      "version": "3.7.3"
    }
  },
  "nbformat": 4,
  "nbformat_minor": 0
}